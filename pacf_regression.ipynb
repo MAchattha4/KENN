{
 "cells": [
  {
   "cell_type": "code",
   "execution_count": 1,
   "metadata": {},
   "outputs": [
    {
     "name": "stderr",
     "output_type": "stream",
     "text": [
      "/home/chatta/anaconda3/lib/python3.7/site-packages/tensorflow/python/framework/dtypes.py:526: FutureWarning: Passing (type, 1) or '1type' as a synonym of type is deprecated; in a future version of numpy, it will be understood as (type, (1,)) / '(1,)type'.\n",
      "  _np_qint8 = np.dtype([(\"qint8\", np.int8, 1)])\n",
      "/home/chatta/anaconda3/lib/python3.7/site-packages/tensorflow/python/framework/dtypes.py:527: FutureWarning: Passing (type, 1) or '1type' as a synonym of type is deprecated; in a future version of numpy, it will be understood as (type, (1,)) / '(1,)type'.\n",
      "  _np_quint8 = np.dtype([(\"quint8\", np.uint8, 1)])\n",
      "/home/chatta/anaconda3/lib/python3.7/site-packages/tensorflow/python/framework/dtypes.py:528: FutureWarning: Passing (type, 1) or '1type' as a synonym of type is deprecated; in a future version of numpy, it will be understood as (type, (1,)) / '(1,)type'.\n",
      "  _np_qint16 = np.dtype([(\"qint16\", np.int16, 1)])\n",
      "/home/chatta/anaconda3/lib/python3.7/site-packages/tensorflow/python/framework/dtypes.py:529: FutureWarning: Passing (type, 1) or '1type' as a synonym of type is deprecated; in a future version of numpy, it will be understood as (type, (1,)) / '(1,)type'.\n",
      "  _np_quint16 = np.dtype([(\"quint16\", np.uint16, 1)])\n",
      "/home/chatta/anaconda3/lib/python3.7/site-packages/tensorflow/python/framework/dtypes.py:530: FutureWarning: Passing (type, 1) or '1type' as a synonym of type is deprecated; in a future version of numpy, it will be understood as (type, (1,)) / '(1,)type'.\n",
      "  _np_qint32 = np.dtype([(\"qint32\", np.int32, 1)])\n",
      "/home/chatta/anaconda3/lib/python3.7/site-packages/tensorflow/python/framework/dtypes.py:535: FutureWarning: Passing (type, 1) or '1type' as a synonym of type is deprecated; in a future version of numpy, it will be understood as (type, (1,)) / '(1,)type'.\n",
      "  np_resource = np.dtype([(\"resource\", np.ubyte, 1)])\n",
      "Using TensorFlow backend.\n"
     ]
    }
   ],
   "source": [
    "import random\n",
    "import numpy as np\n",
    "import tensorflow as tf\n",
    "\n",
    "seed_value= 1111\n",
    "random.seed(seed_value)\n",
    "np.random.seed(seed_value)\n",
    "tf.set_random_seed(seed_value)\n",
    "\n",
    "import warnings\n",
    "import sys\n",
    "import os\n",
    "import pandas as pd\n",
    "from keras.optimizers import Adam\n",
    "from sklearn.metrics import mean_squared_error as mse\n",
    "from sklearn.metrics import mean_absolute_error as mae\n",
    "# from sklearn.metrics import mean_absolute_percentage_error\n",
    "from keras import backend as K\n",
    "from keras.callbacks import ModelCheckpoint\n",
    "from keras.models import Sequential,Model\n",
    "from keras.layers import Input,LSTM, Dense, Flatten, Conv1D, Lambda, Reshape, RepeatVector\n",
    "from keras.layers.merge import concatenate, multiply,add\n",
    "from keras import regularizers\n",
    "from keras.initializers import glorot_uniform\n",
    "from tqdm import tqdm\n",
    "from keras import regularizers\n",
    "from keras.models import load_model\n",
    "import datetime\n",
    "from sklearn.preprocessing import MinMaxScaler\n",
    "import matplotlib.pyplot as plt\n",
    "from copy import deepcopy\n",
    "from scipy import stats\n",
    "from sklearn.preprocessing import StandardScaler\n",
    "from sklearn.preprocessing import RobustScaler\n",
    "import random as python_random\n",
    "from statsmodels.tsa.stattools import pacf,acf\n",
    "from matplotlib import pyplot\n",
    "from statsmodels.graphics.tsaplots import plot_pacf"
   ]
  },
  {
   "cell_type": "code",
   "execution_count": 2,
   "metadata": {},
   "outputs": [],
   "source": [
    "# def MSE(pred,gt):\n",
    "#     l = pred.shape[1]\n",
    "#     err = np.zeros((l))\n",
    "#     err2 = np.zeros((l))\n",
    "# #     gt = gt[-1440:,:]\n",
    "#     for i in range(l):\n",
    "#         err[i] = mse(pred[:,i],gt[:,i])\n",
    "#         err2[i] = mae(pred[:,i],gt[:,i])\n",
    "#     return err,err2\n",
    "\n",
    "def MSE(pred,gt):\n",
    "    l = pred.shape[0]\n",
    "    err = np.zeros((l))\n",
    "    err2 = np.zeros((l))\n",
    "#     gt = gt[-1440:,:]\n",
    "#     for i in range(l):\n",
    "    err[i] = mse(pred,gt)\n",
    "    err2[i] = mae(pred,gt)\n",
    "    return err,err2\n",
    "\n",
    "def metrics(pred,gt):\n",
    "    l = pred.shape[1]\n",
    "#     print(l)\n",
    "    err_mse = np.zeros((l))\n",
    "    err_mae = np.zeros((l))\n",
    "\n",
    "    for i in range(l):\n",
    "        err_mse[i] = mse(pred[:,i],gt[:,i])\n",
    "        err_mae[i] = mae(pred[:,i],gt[:,i])\n",
    "        \n",
    "    return err_mse,err_mae        "
   ]
  },
  {
   "cell_type": "code",
   "execution_count": 3,
   "metadata": {},
   "outputs": [],
   "source": [
    "d = \"/home/chatta/sarima_pemM/theta_preds/traffic/\"\n",
    "# auto_d = \"/home/chatta/sarima_pemM/autoencoder_weights/traffic/h9/\"\n",
    "horizon = 1\n",
    "window_size=50\n",
    "#for h3 header=None, index_col=None\n",
    "# theta_preds =np.asarray(pd.read_csv(d+\"h9_w12_f1.csv\",header=None))\n",
    "# theta_preds = theta_preds[:12660,:]\n",
    "# data = np.asarray(pd.read_csv(\"/home/chatta/logic_rules/data/V_228.csv\",header=None))\n",
    "k_preds=np.asarray(pd.read_csv(\"/home/chatta/logic_rules/results/pacf_preds/traffic_30_std/h1/preds.csv\",header=None))\n",
    "data = pd.read_csv('/home/chatta/logic_rules/data/traffic_30_with_std.csv',usecols=['avg_flow','pred'])\n",
    "data= np.asarray(data['avg_flow'])"
   ]
  },
  {
   "cell_type": "code",
   "execution_count": 18,
   "metadata": {},
   "outputs": [
    {
     "data": {
      "text/plain": [
       "(13493, 1)"
      ]
     },
     "execution_count": 18,
     "metadata": {},
     "output_type": "execute_result"
    }
   ],
   "source": [
    "k_preds.shape"
   ]
  },
  {
   "cell_type": "code",
   "execution_count": null,
   "metadata": {},
   "outputs": [],
   "source": []
  },
  {
   "cell_type": "code",
   "execution_count": 35,
   "metadata": {},
   "outputs": [],
   "source": [
    "# num_test=1440\n",
    "# train_d = data[:-(2*1440)]\n",
    "# test_d = data[-(num_test+window_size):,:]\n",
    "# n_test=1440\n",
    "# n_data = data.shape[0]\n",
    "# train_d = data[:-n_test,:]\n",
    "# test_d =data[-(n_test):,:]\n",
    "train_d=data[:(int(.8*data.size)+1)]\n",
    "n_test = int(.1*data.size)\n"
   ]
  },
  {
   "cell_type": "code",
   "execution_count": 191,
   "metadata": {},
   "outputs": [
    {
     "data": {
      "text/plain": [
       "10835"
      ]
     },
     "execution_count": 191,
     "metadata": {},
     "output_type": "execute_result"
    }
   ],
   "source": [
    "train_d.size"
   ]
  },
  {
   "cell_type": "code",
   "execution_count": 12,
   "metadata": {},
   "outputs": [
    {
     "data": {
      "text/plain": [
       "11232"
      ]
     },
     "execution_count": 12,
     "metadata": {},
     "output_type": "execute_result"
    }
   ],
   "source": [
    "12672-1440"
   ]
  },
  {
   "cell_type": "code",
   "execution_count": 14,
   "metadata": {},
   "outputs": [
    {
     "data": {
      "text/plain": [
       "240.0"
      ]
     },
     "execution_count": 14,
     "metadata": {},
     "output_type": "execute_result"
    }
   ],
   "source": [
    "1440/6"
   ]
  },
  {
   "cell_type": "code",
   "execution_count": 163,
   "metadata": {},
   "outputs": [
    {
     "data": {
      "text/plain": [
       "(1354,)"
      ]
     },
     "execution_count": 163,
     "metadata": {},
     "output_type": "execute_result"
    }
   ],
   "source": [
    "test_d.shape"
   ]
  },
  {
   "cell_type": "code",
   "execution_count": 7,
   "metadata": {},
   "outputs": [],
   "source": [
    "# p_acf=np.abs(pacf(train_d[:,1],100)[1:])\n",
    "p_acf=np.abs(pacf(train_d,100)[1:])"
   ]
  },
  {
   "cell_type": "code",
   "execution_count": 10,
   "metadata": {},
   "outputs": [
    {
     "data": {
      "text/plain": [
       "4"
      ]
     },
     "execution_count": 10,
     "metadata": {},
     "output_type": "execute_result"
    }
   ],
   "source": [
    "a=np.argwhere(np.abs(p_acf)>0.2)\n",
    "p_acf[a].size"
   ]
  },
  {
   "cell_type": "code",
   "execution_count": 87,
   "metadata": {},
   "outputs": [
    {
     "data": {
      "text/plain": [
       "array([[ 0],\n",
       "       [ 1],\n",
       "       [ 2],\n",
       "       [ 6],\n",
       "       [14],\n",
       "       [41],\n",
       "       [42],\n",
       "       [43],\n",
       "       [44],\n",
       "       [45],\n",
       "       [48]])"
      ]
     },
     "execution_count": 87,
     "metadata": {},
     "output_type": "execute_result"
    }
   ],
   "source": [
    "a"
   ]
  },
  {
   "cell_type": "code",
   "execution_count": 218,
   "metadata": {},
   "outputs": [],
   "source": [
    "p_temp=[0.96, 0.42, 0.31, 0.11, 0.05, 0.07, 0.25 , 0.05]"
   ]
  },
  {
   "cell_type": "code",
   "execution_count": 84,
   "metadata": {},
   "outputs": [
    {
     "data": {
      "text/plain": [
       "array([0.96777593, 0.42310935, 0.31884978, 0.01386057, 0.02718418,\n",
       "       0.01271628, 0.10609135, 0.09797283, 0.09845965, 0.03700712])"
      ]
     },
     "execution_count": 84,
     "metadata": {},
     "output_type": "execute_result"
    }
   ],
   "source": [
    "p_acf[:10]"
   ]
  },
  {
   "cell_type": "code",
   "execution_count": 223,
   "metadata": {},
   "outputs": [
    {
     "data": {
      "image/png": "[encoded data removed]",
      "text/plain": [
       "<Figure size 432x288 with 1 Axes>"
      ]
     },
     "metadata": {
      "needs_background": "light"
     },
     "output_type": "display_data"
    }
   ],
   "source": [
    "fig=plt.figure()\n",
    "ax = fig.add_axes([0,0,1,1])\n",
    "x=np.arange(8)\n",
    "ax.bar(x,p_temp)\n",
    "plt.plot()\n",
    "plt.savefig(\"hist.png\")"
   ]
  },
  {
   "cell_type": "code",
   "execution_count": 220,
   "metadata": {},
   "outputs": [
    {
     "ename": "NameError",
     "evalue": "name 'savefig' is not defined",
     "output_type": "error",
     "traceback": [
      "\u001b[0;31m---------------------------------------------------------------------------\u001b[0m",
      "\u001b[0;31mNameError\u001b[0m                                 Traceback (most recent call last)",
      "\u001b[0;32m<ipython-input-220-2285ab624320>\u001b[0m in \u001b[0;36m<module>\u001b[0;34m\u001b[0m\n\u001b[0;32m----> 1\u001b[0;31m \u001b[0msavefig\u001b[0m\u001b[0;34m(\u001b[0m\u001b[0;34m\"hist.png\"\u001b[0m\u001b[0;34m)\u001b[0m\u001b[0;34m\u001b[0m\u001b[0;34m\u001b[0m\u001b[0m\n\u001b[0m",
      "\u001b[0;31mNameError\u001b[0m: name 'savefig' is not defined"
     ]
    }
   ],
   "source": [
    "savefig(\"hist.png\")"
   ]
  },
  {
   "cell_type": "code",
   "execution_count": 112,
   "metadata": {},
   "outputs": [],
   "source": [
    "# def make_input(data,window_size,horizon=1):\n",
    "#     length=data.shape[0]\n",
    "#     y = np.zeros([length-window_size+1-horizon,horizon])\n",
    "#     output=np.zeros([length-window_size+1-horizon,window_size])\n",
    "#     for i in range(length-window_size-horizon+1):\n",
    "#         output[i:i+1,:]=data[i:i+window_size]\n",
    "#         y[i,:]= data[i+window_size:i+window_size+horizon]\n",
    "#     return output.reshape(output.shape[0],window_size), y\n",
    "\n",
    "def make_input(data,window_size,horizon=1):\n",
    "    length=data.shape[0]\n",
    "    data=np.append(data,0)\n",
    "    y = np.zeros([length-window_size+1,horizon])\n",
    "    output=np.zeros([length-window_size+1,window_size])\n",
    "    for i in range(length-window_size+1):\n",
    "        output[i:i+1,:]=data[i:i+window_size]\n",
    "        y[i,:]= data[i+window_size:i+window_size+horizon]\n",
    "#         print(i)\n",
    "    return output.reshape(output.shape[0],window_size), y\n",
    "\n",
    "def make_k_input(data,horizon):\n",
    "    length = data.shape[0]\n",
    "    output= np.zeros([length+1-horizon,horizon])\n",
    "    for i in range(length-window_size-horizon+1):\n",
    "        output[i:i+1,:]=data[i:i+horizon]\n",
    "    return output.reshape(output.shape[0],horizon)\n",
    "\n",
    "def nonov_make_input(data,window_size,horizon=1):\n",
    "    length=data.shape[0]-window_size\n",
    "    loop=length//horizon\n",
    "    extra = length%horizon\n",
    "\n",
    "    data = np.append(data,np.zeros([horizon-extra]))\n",
    "\n",
    "    if extra ==0:\n",
    "        i_val = loop\n",
    "    else:\n",
    "        i_val=loop+1\n",
    "        \n",
    "    output=np.zeros([i_val,window_size])\n",
    "    y=np.zeros([i_val,horizon])\n",
    "    for i in range(i_val):\n",
    "        output[i:i+1,:]=data[i*horizon:(i*horizon)+window_size]\n",
    "        y[i,:]= data[(i*horizon)+window_size:(i*horizon)+window_size+horizon]\n",
    "        \n",
    "    return output.reshape(output.shape[0],window_size), y\n",
    "\n",
    "def nonov_make_k_input(data,horizon):\n",
    "    length = data.shape[0]\n",
    "    loop=length//horizon\n",
    "    extra = length%horizon\n",
    "    data_app = np.repeat(data[-1],extra)\n",
    "    data = np.append(data,data_app)    \n",
    "\n",
    "    if extra ==0:\n",
    "        i_val = loop\n",
    "    else:\n",
    "        i_val=loop+1\n",
    "    output=np.zeros([i_val,horizon])\n",
    "    for i in range(i_val):\n",
    "        output[i:i+1,:]=data[(i*horizon):(i*horizon)+horizon]\n",
    "    return output.reshape(output.shape[0],horizon)\n",
    "\n",
    "def logic_rules(data,preds):\n",
    "    day_sample=48\n",
    "    window=8\n",
    "    data=data[2:]\n",
    "    loop=preds.size//window\n",
    "    rem=preds.size%window\n",
    "    out_data=np.zeros((loop,window))\n",
    "    out_pred=np.zeros((loop,window))\n",
    "    for i in range(loop):\n",
    "        out_data[i,:]=data[i*window:i*window+window]\n",
    "        out_pred[i,:]=preds[i*window:i*window+window]\n",
    "    rem_data=data[-(48+rem):-48]\n",
    "    rem_pred=preds[-rem:]\n",
    "    return out_data,out_pred,rem_data,rem_pred\n",
    "    \n",
    "        "
   ]
  },
  {
   "cell_type": "code",
   "execution_count": 192,
   "metadata": {},
   "outputs": [],
   "source": [
    "horizon=1\n",
    "window_size=50\n",
    "final_output=np.zeros((train_d.size-window_size))\n",
    "\n",
    "\n",
    "p_acf = pacf(train_d,100)[1:]\n",
    "indexes = np.squeeze(np.argwhere(np.abs(p_acf)>0.2))\n",
    "\n",
    "weightage=np.ndarray.flatten(np.abs(p_acf[indexes]))\n",
    "# weightage = weightage/np.sum(np.abs(weightage))\n",
    "size_of_weightage= weightage.size\n",
    "input_, label = make_input(data,window_size,horizon)\n",
    "output =np.zeros([input_.shape[0],horizon])\n",
    "weight_matrix=np.zeros([1,window_size])\n",
    "weight_matrix[0,indexes]=weightage\n",
    "# output = np.append(input_[:,-size_of_weightage:],output,axis=1)   \n",
    "for z in range(input_.shape[0]):\n",
    "#         temp=np.zeros{horizon}\n",
    "#     for j in range(horizon):\n",
    "#             print(output[z,j:j+size_of_weightage]*weightage)\n",
    "#         output[z,j+size_of_weightage]= np.sum((output[z,j:j+size_of_weightage]*np.flip(weightage))/np.sum(weightage))\n",
    "    output[z,0]= (np.sum(input_[z,:]*np.flip(weight_matrix)))/np.sum(weightage)\n",
    "\n",
    "# output=output[:,size_of_weightage:]\n",
    "temp=np.squeeze(np.ndarray.flatten(output))\n",
    "final_output=temp\n",
    "\n",
    "\n",
    "#-------------logic_rules---------------------\n",
    "\n",
    "\n",
    "            \n",
    "\n",
    "        \n",
    "            \n",
    "        \n",
    "        \n",
    "    "
   ]
  },
  {
   "cell_type": "code",
   "execution_count": 181,
   "metadata": {},
   "outputs": [],
   "source": [
    "out_data,out_pred,data_rem,pred_rem=logic_rules(data,temp)"
   ]
  },
  {
   "cell_type": "code",
   "execution_count": 194,
   "metadata": {},
   "outputs": [
    {
     "data": {
      "text/plain": [
       "array([ 0,  1,  2, 43])"
      ]
     },
     "execution_count": 194,
     "metadata": {},
     "output_type": "execute_result"
    }
   ],
   "source": [
    "indexes\n"
   ]
  },
  {
   "cell_type": "code",
   "execution_count": 182,
   "metadata": {},
   "outputs": [],
   "source": [
    "pred_mean= np.mean(out_pred,axis=1).reshape(out_pred.shape[0],1)\n",
    "data_mean=np.mean(out_data,axis=1).reshape(out_data.shape[0],1)\n",
    "pred_std=np.std(out_pred,axis=1)\n",
    "data_std=np.std(out_data,axis=1)\n",
    "diff=np.abs(pred_mean-data_mean)\n",
    "a=np.zeros(0)\n",
    "f_pred=out_pred\n",
    "for i in range(out_pred.shape[0]):\n",
    "    if diff[i]<0.1*data_std[i]:\n",
    "        a=np.append(a,i)\n",
    "        f_pred[i] = out_pred[i,:]-pred_mean[i,:]+data_mean[i,:]\n",
    "# f_rem=pred_rem-np.mean(pred_rem)+np.mean(data_rem)\n",
    "f_rem=pred_rem\n",
    "temp1=np.ndarray.flatten(f_pred)\n",
    "temp1=np.append(temp1,f_rem)\n",
    "\n",
    "a=a[1:]\n",
    "    \n"
   ]
  },
  {
   "cell_type": "code",
   "execution_count": 183,
   "metadata": {},
   "outputs": [
    {
     "data": {
      "text/plain": [
       "2.4066233476187575"
      ]
     },
     "execution_count": 183,
     "metadata": {},
     "output_type": "execute_result"
    }
   ],
   "source": [
    "# temp1, temp2= MSE(test_d[window_size:-2,:],f_pred[-1438:,:])\n",
    "# [np.sqrt(np.mean(temp1)),np.mean(temp2)]\n",
    "# temp1, temp2= MSE(test_d,f_pred[-n_test:])\n",
    "# [temp1,temp2]\n",
    "mse(temp1[-(n_test):],data[-n_test:])"
   ]
  },
  {
   "cell_type": "code",
   "execution_count": 188,
   "metadata": {},
   "outputs": [
    {
     "data": {
      "text/plain": [
       "[<matplotlib.lines.Line2D at 0x7f7c147cb748>]"
      ]
     },
     "execution_count": 188,
     "metadata": {},
     "output_type": "execute_result"
    },
    {
     "data": {
      "image/png": "[encoded data removed]",
      "text/plain": [
       "<Figure size 432x288 with 1 Axes>"
      ]
     },
     "metadata": {
      "needs_background": "light"
     },
     "output_type": "display_data"
    }
   ],
   "source": [
    "plt.plot(data[:100],'g')\n",
    "\n",
    "plt.plot(temp[1:100],'b')"
   ]
  },
  {
   "cell_type": "code",
   "execution_count": 189,
   "metadata": {},
   "outputs": [
    {
     "data": {
      "text/plain": [
       "13493"
      ]
     },
     "execution_count": 189,
     "metadata": {},
     "output_type": "execute_result"
    }
   ],
   "source": [
    "temp[1:].size"
   ]
  },
  {
   "cell_type": "code",
   "execution_count": 159,
   "metadata": {},
   "outputs": [
    {
     "data": {
      "text/plain": [
       "(1404,)"
      ]
     },
     "execution_count": 159,
     "metadata": {},
     "output_type": "execute_result"
    }
   ],
   "source": [
    "test_d.shape"
   ]
  },
  {
   "cell_type": "code",
   "execution_count": 156,
   "metadata": {},
   "outputs": [
    {
     "data": {
      "text/plain": [
       "array([32.37146998, 28.84825968, 29.04972269, 27.7128228 , 26.62098392,\n",
       "       26.13010863, 26.13527723, 25.56775268, 25.19613108, 24.08640274,\n",
       "       22.89788621, 22.32548914, 19.7220419 , 17.74922311, 15.21402563,\n",
       "       13.21365029, 11.01030016,  9.00264612,  7.495157  ,  6.18828824,\n",
       "        5.72483458,  5.69385612,  4.99850083,  4.63368541,  4.52668786,\n",
       "        5.01551446,  5.99680929,  7.42699721,  9.78089105, 12.39285899,\n",
       "       16.54811271, 22.61585965, 27.7689938 , 31.28569582, 32.95757709,\n",
       "       31.76311809, 29.27031825, 27.16427732, 25.95749263, 26.79090751,\n",
       "       28.49964803, 29.72864934, 31.06685554, 31.61606098, 31.48937399,\n",
       "       33.78420843, 35.36295407, 36.10397551, 35.62558706])"
      ]
     },
     "execution_count": 156,
     "metadata": {},
     "output_type": "execute_result"
    }
   ],
   "source": [
    "f_pred[-n_test+1:(-n_test+50)]\n",
    "# ,test_d[window_size:window_size+50]]"
   ]
  },
  {
   "cell_type": "code",
   "execution_count": 190,
   "metadata": {},
   "outputs": [],
   "source": [
    "np.savetxt('/home/chatta/logic_rules/results/pacf_preds/traffic_30_std/h1/preds_final.csv',temp[1:], fmt='%1.5f',delimiter=',')"
   ]
  },
  {
   "cell_type": "code",
   "execution_count": 197,
   "metadata": {},
   "outputs": [
    {
     "data": {
      "text/plain": [
       "1354"
      ]
     },
     "execution_count": 197,
     "metadata": {},
     "output_type": "execute_result"
    }
   ],
   "source": [
    "n_test"
   ]
  },
  {
   "cell_type": "code",
   "execution_count": 196,
   "metadata": {},
   "outputs": [
    {
     "data": {
      "text/plain": [
       "(1354,)"
      ]
     },
     "execution_count": 196,
     "metadata": {},
     "output_type": "execute_result"
    }
   ],
   "source": [
    "test_d.shape"
   ]
  },
  {
   "cell_type": "code",
   "execution_count": 195,
   "metadata": {},
   "outputs": [
    {
     "data": {
      "text/plain": [
       "(13493,)"
      ]
     },
     "execution_count": 195,
     "metadata": {},
     "output_type": "execute_result"
    }
   ],
   "source": [
    "f_pred.shape"
   ]
  },
  {
   "cell_type": "code",
   "execution_count": 201,
   "metadata": {},
   "outputs": [
    {
     "data": {
      "text/plain": [
       "[<matplotlib.lines.Line2D at 0x7f2cae4eb2b0>]"
      ]
     },
     "execution_count": 201,
     "metadata": {},
     "output_type": "execute_result"
    },
    {
     "data": {
      "image/png": "[encoded data removed]",
      "text/plain": [
       "<Figure size 432x288 with 1 Axes>"
      ]
     },
     "metadata": {
      "needs_background": "light"
     },
     "output_type": "display_data"
    }
   ],
   "source": [
    "plt.plot(f_pred[-n_test+2:-(n_test-102)])\n",
    "plt.plot(test_d[:100])"
   ]
  },
  {
   "cell_type": "code",
   "execution_count": 110,
   "metadata": {},
   "outputs": [
    {
     "data": {
      "text/plain": [
       "array([0., 0., 0., 0., 0., 0., 0., 0., 0., 0., 0., 0., 0., 0., 0., 0., 0.,\n",
       "       0., 0., 0., 0., 0., 0., 0., 0., 0., 0., 0., 0., 0., 0., 0., 0., 0.,\n",
       "       0., 0., 0., 0., 0., 0., 0., 0., 0., 0., 0., 0., 0., 0., 0., 0.])"
      ]
     },
     "execution_count": 110,
     "metadata": {},
     "output_type": "execute_result"
    }
   ],
   "source": [
    "f_pred[-n_test:-(n_test-50)]"
   ]
  },
  {
   "cell_type": "code",
   "execution_count": null,
   "metadata": {},
   "outputs": [],
   "source": []
  }
 ],
 "metadata": {
  "kernelspec": {
   "display_name": "Python 3",
   "language": "python",
   "name": "python3"
  },
  "language_info": {
   "codemirror_mode": {
    "name": "ipython",
    "version": 3
   },
   "file_extension": ".py",
   "mimetype": "text/x-python",
   "name": "python",
   "nbconvert_exporter": "python",
   "pygments_lexer": "ipython3",
   "version": "3.7.3"
  }
 },
 "nbformat": 4,
 "nbformat_minor": 2
}
